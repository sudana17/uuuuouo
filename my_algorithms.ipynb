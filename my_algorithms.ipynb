{
 "cells": [
  {
   "cell_type": "code",
   "execution_count": 1,
   "metadata": {},
   "outputs": [
    {
     "name": "stdout",
     "output_type": "stream",
     "text": [
      "575 1933\n",
      "1\n"
     ]
    }
   ],
   "source": [
    "import random\n",
    "'''\n",
    "алгоритм Евклида\n",
    "'''\n",
    "a = random.randint(100, 900)\n",
    "b = random.randint(1000, 3000)\n",
    "print(a, b)\n",
    "\n",
    "def evklid_first(a, b):\n",
    "    \n",
    "    while (max(a, b)) % (min(a, b)) >= 1:\n",
    "       if a > b:\n",
    "           a = (max(a, b)) % (min(a, b))\n",
    "           \n",
    "       elif b > a:\n",
    "           b = (max(a, b)) % (min(a, b))\n",
    "           \n",
    "       else:\n",
    "           break\n",
    "\n",
    "    return min(a, b)\n",
    "print(evklid_first(a, b))"
   ]
  },
  {
   "cell_type": "code",
   "execution_count": 2,
   "metadata": {},
   "outputs": [
    {
     "name": "stdout",
     "output_type": "stream",
     "text": [
      "106 1264\n",
      "(2, -155, 13)\n"
     ]
    }
   ],
   "source": [
    "import random\n",
    "'''\n",
    "расширенный алгоритм Евклида\n",
    "'''\n",
    "a = random.randint(100, 900)\n",
    "b = random.randint(1000, 3000)\n",
    "print(a, b)\n",
    "def evklid_sec(a, b):\n",
    "    if a == 0:\n",
    "        return (b, 0, 1)\n",
    "    else:\n",
    "        div, x, y = evklid_sec(b % a, a)\n",
    "    return (div, y - (b // a) * x, x)\n",
    "    \n",
    "print(evklid_sec(a, b))"
   ]
  },
  {
   "cell_type": "code",
   "execution_count": 3,
   "metadata": {},
   "outputs": [
    {
     "name": "stdout",
     "output_type": "stream",
     "text": [
      "2217\n",
      "false\n"
     ]
    }
   ],
   "source": [
    "'''\n",
    "проверка простоты\n",
    "'''\n",
    "import random\n",
    "import math\n",
    "a = random.randint(100, 2**15)\n",
    "print(a)\n",
    "def simpl(a):\n",
    "    k = 0\n",
    "    for i in range(2, int(math.sqrt(a)) + 1):\n",
    "        if (a % i == 0):\n",
    "            k += 1 \n",
    "    if (k == 0):\n",
    "        return(\"true\")\n",
    "    else:\n",
    "        return('false')\n",
    "print(simpl(a))"
   ]
  },
  {
   "cell_type": "code",
   "execution_count": null,
   "metadata": {},
   "outputs": [],
   "source": []
  }
 ],
 "metadata": {
  "kernelspec": {
   "display_name": "Python 3",
   "language": "python",
   "name": "python3"
  },
  "language_info": {
   "codemirror_mode": {
    "name": "ipython",
    "version": 3
   },
   "file_extension": ".py",
   "mimetype": "text/x-python",
   "name": "python",
   "nbconvert_exporter": "python",
   "pygments_lexer": "ipython3",
   "version": "3.8.6"
  }
 },
 "nbformat": 4,
 "nbformat_minor": 4
}
