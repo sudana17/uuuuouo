{
 "cells": [
  {
   "cell_type": "code",
   "execution_count": 2,
   "metadata": {},
   "outputs": [
    {
     "name": "stdout",
     "output_type": "stream",
     "text": [
      "[0.8490566  0.05660377 0.47169811 1.45283019]\n",
      "Макс отклонение компоненты решения: 1.1171619185290638e-15\n"
     ]
    }
   ],
   "source": [
    "import numpy\n",
    "from numpy.linalg import norm\n",
    "from numpy.linalg import solve as solve_out_of_the_box\n",
    "from numpy import array\n",
    "\n",
    "def gauss(a, b):\n",
    "    a = a.copy()\n",
    "    b = b.copy()\n",
    "    n = len(a) \n",
    "    \n",
    "    def forward():\n",
    "        \n",
    "        for k in range(n - 1):\n",
    "            for i in range(k + 1, n):\n",
    "                c = a[i][k] / a[k][k]\n",
    "                b[i] -= c * b[k]\n",
    "                for j in range(k + 1, n):\n",
    "                    a[i][j] -= c * a[k][j]\n",
    "                \n",
    "    def backward():\n",
    "        x = numpy.zeros(len(b), dtype=float)\n",
    "        \n",
    "        for k in range(n - 1, -1, -1):\n",
    "            x[k] = (b[k] - sum([a[k][j] * x[j] for j in range(k + 1, n)])) / a[k][k]\n",
    "        return x\n",
    "\n",
    "    forward()\n",
    "    x = backward()\n",
    "    return x\n",
    "\n",
    "a = array([\n",
    "    [1.5, 2.0, 1.5, 2.0],\n",
    "    [3.0, 2.0, 4.0, 1.0],\n",
    "    [1.0, 6.0, 0.0, 4  ],\n",
    "    [2.0, 1.0, 4.0, 3  ]\n",
    "], dtype=float)\n",
    "\n",
    "b = array([5, 6, 7, 8], dtype=float)\n",
    "\n",
    "oob_solution = solve_out_of_the_box(a, b)\n",
    "solution = gauss(a, b)\n",
    "\n",
    "print(solution)\n",
    "print(\"Макс отклонение компоненты решения:\", norm(solution-oob_solution, ord=1))"
   ]
  },
  {
   "cell_type": "code",
   "execution_count": null,
   "metadata": {},
   "outputs": [],
   "source": []
  }
 ],
 "metadata": {
  "kernelspec": {
   "display_name": "Python 3",
   "language": "python",
   "name": "python3"
  },
  "language_info": {
   "codemirror_mode": {
    "name": "ipython",
    "version": 3
   },
   "file_extension": ".py",
   "mimetype": "text/x-python",
   "name": "python",
   "nbconvert_exporter": "python",
   "pygments_lexer": "ipython3",
   "version": "3.8.6"
  }
 },
 "nbformat": 4,
 "nbformat_minor": 4
}
