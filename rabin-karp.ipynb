{
 "cells": [
  {
   "cell_type": "code",
   "execution_count": 3,
   "metadata": {},
   "outputs": [
    {
     "name": "stdout",
     "output_type": "stream",
     "text": [
      "[1, 3, 7]\n"
     ]
    }
   ],
   "source": [
    "text = 'vbgbgggbggggggggbbv'\n",
    "pattern = 'bg'\n",
    "def find_all_rabin_karp(text, pattern):\n",
    "  \n",
    "    result = []\n",
    "    patternsum = sum(ord(s) for s in pattern)\n",
    "    textwindowsum = sum(ord(text[i]) for i in range(len(pattern)))\n",
    "    for m in range(len(text) - len(pattern) + 1):\n",
    "        if patternsum == textwindowsum:\n",
    "                if text.startswith(pattern, m):\n",
    "                    result.append(m)\n",
    "   \n",
    "        m = m + 1\n",
    "        textwindowsum = sum(ord(text[i + 1]) for i in range(len(pattern)))\n",
    "    return(result)     \n",
    "        \n",
    "     \n",
    "print(find_all_rabin_karp(text, pattern))\n"
   ]
  },
  {
   "cell_type": "code",
   "execution_count": null,
   "metadata": {},
   "outputs": [],
   "source": []
  }
 ],
 "metadata": {
  "kernelspec": {
   "display_name": "Python 3",
   "language": "python",
   "name": "python3"
  },
  "language_info": {
   "codemirror_mode": {
    "name": "ipython",
    "version": 3
   },
   "file_extension": ".py",
   "mimetype": "text/x-python",
   "name": "python",
   "nbconvert_exporter": "python",
   "pygments_lexer": "ipython3",
   "version": "3.8.6"
  }
 },
 "nbformat": 4,
 "nbformat_minor": 4
}
