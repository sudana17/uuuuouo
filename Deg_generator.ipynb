{
 "cells": [
  {
   "cell_type": "code",
   "execution_count": 1,
   "metadata": {},
   "outputs": [
    {
     "name": "stdout",
     "output_type": "stream",
     "text": [
      "(0, 1)\n",
      "(1, 2)\n",
      "(2, 4)\n",
      "(3, 8)\n",
      "(4, 16)\n",
      "(5, 32)\n",
      "(6, 64)\n",
      "(7, 128)\n",
      "(8, 256)\n",
      "(9, 512)\n",
      "(10, 1024)\n",
      "(11, 2048)\n",
      "(12, 4096)\n",
      "(13, 8192)\n",
      "(14, 16384)\n",
      "(15, 32768)\n",
      "(16, 65536)\n",
      "(17, 131072)\n",
      "(18, 262144)\n",
      "(19, 524288)\n",
      "(20, 1048576)\n",
      "(21, 2097152)\n",
      "(22, 4194304)\n",
      "(23, 8388608)\n",
      "(24, 16777216)\n",
      "(25, 33554432)\n",
      "(26, 67108864)\n",
      "(27, 134217728)\n",
      "(28, 268435456)\n",
      "(29, 536870912)\n",
      "(30, 1073741824)\n",
      "(31, 2147483648)\n",
      "(32, 4294967296)\n",
      "(33, 8589934592)\n",
      "(34, 17179869184)\n",
      "(35, 34359738368)\n",
      "(36, 68719476736)\n",
      "(37, 137438953472)\n",
      "(38, 274877906944)\n",
      "(39, 549755813888)\n",
      "(40, 1099511627776)\n",
      "(41, 2199023255552)\n",
      "(42, 4398046511104)\n",
      "(43, 8796093022208)\n",
      "(44, 17592186044416)\n",
      "(45, 35184372088832)\n",
      "(46, 70368744177664)\n",
      "(47, 140737488355328)\n",
      "(48, 281474976710656)\n",
      "(49, 562949953421312)\n"
     ]
    }
   ],
   "source": [
    "'''\n",
    "генерирует двойкины степени\n",
    "'''\n",
    "\n",
    "class Deg:    \n",
    "\n",
    "\n",
    "    class _Deg_iter:\n",
    "     \n",
    "        def __init__(self):\n",
    "             self.cur_pow = 1\n",
    "            \n",
    "        def __next__(self):\n",
    "              result = self.cur_pow\n",
    "              self.cur_pow *= 2\n",
    "              return result\n",
    "      \n",
    "    def __iter__(self):  \n",
    "        return Deg._Deg_iter()        \n",
    "\n",
    "d8 = Deg()\n",
    "for f in zip(range(50), d8):\n",
    "    print(f)"
   ]
  },
  {
   "cell_type": "code",
   "execution_count": null,
   "metadata": {},
   "outputs": [],
   "source": []
  }
 ],
 "metadata": {
  "kernelspec": {
   "display_name": "Python 3",
   "language": "python",
   "name": "python3"
  },
  "language_info": {
   "codemirror_mode": {
    "name": "ipython",
    "version": 3
   },
   "file_extension": ".py",
   "mimetype": "text/x-python",
   "name": "python",
   "nbconvert_exporter": "python",
   "pygments_lexer": "ipython3",
   "version": "3.8.6"
  }
 },
 "nbformat": 4,
 "nbformat_minor": 4
}
