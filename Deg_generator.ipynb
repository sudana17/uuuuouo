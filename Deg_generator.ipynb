{
 "cells": [
  {
   "cell_type": "code",
   "execution_count": null,
   "metadata": {},
   "outputs": [],
   "source": [
    "'''\n",
    "генерирует двойкины степени\n",
    "'''\n",
    "\n",
    "class Deg:    \n",
    "\n",
    "\n",
    "    class _Deg_iter:\n",
    "     \n",
    "        def __init__(self):\n",
    "            self.i = 0\n",
    "            self.j = 1\n",
    "            self.g = 1\n",
    "           \n",
    "        \n",
    "        def __next__(self):\n",
    "            \n",
    "                k = self.g\n",
    "                self.g = self.j \n",
    "                self.j += self.g\n",
    "                self.i += 1 \n",
    "                return k\n",
    "\n",
    "    def __iter__(self):\n",
    "      \n",
    "        return Deg._Deg_iter()\n",
    "\n",
    "d8 = Deg()\n",
    "for f in zip(range(50), d8):\n",
    "    print(f)"
   ]
  },
  {
   "cell_type": "code",
   "execution_count": null,
   "metadata": {},
   "outputs": [],
   "source": []
  },
  {
   "cell_type": "code",
   "execution_count": null,
   "metadata": {},
   "outputs": [],
   "source": []
  }
 ],
 "metadata": {
  "kernelspec": {
   "display_name": "Python 3",
   "language": "python",
   "name": "python3"
  },
  "language_info": {
   "codemirror_mode": {
    "name": "ipython",
    "version": 3
   },
   "file_extension": ".py",
   "mimetype": "text/x-python",
   "name": "python",
   "nbconvert_exporter": "python",
   "pygments_lexer": "ipython3",
   "version": "3.8.6"
  }
 },
 "nbformat": 4,
 "nbformat_minor": 4
}
