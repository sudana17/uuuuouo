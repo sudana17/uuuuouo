{
 "cells": [
  {
   "cell_type": "code",
   "execution_count": 15,
   "metadata": {},
   "outputs": [
    {
     "name": "stdout",
     "output_type": "stream",
     "text": [
      "162 2685\n",
      "3\n"
     ]
    }
   ],
   "source": [
    "import random\n",
    "\n",
    "a = random.randint(100, 900)\n",
    "b = random.randint(1000, 3000)\n",
    "print(a, b)\n",
    "r = (max(a, b)) % (min(a, b))\n",
    "def evklid(a, b, r):\n",
    "    \n",
    "    while r >= 1:\n",
    "       if a > b:\n",
    "           a = (max(a, b)) % (min(a, b))\n",
    "           r = (max(a, b)) % (min(a, b))\n",
    "       elif b > a:\n",
    "           b = (max(a, b)) % (min(a, b))\n",
    "           r = (max(a, b)) % (min(a, b))\n",
    "       else:\n",
    "           print(a = b)\n",
    "\n",
    "    return min(a, b)\n",
    "print(evklid(a, b, r))"
   ]
  },
  {
   "cell_type": "code",
   "execution_count": null,
   "metadata": {},
   "outputs": [],
   "source": []
  },
  {
   "cell_type": "code",
   "execution_count": null,
   "metadata": {},
   "outputs": [],
   "source": []
  },
  {
   "cell_type": "code",
   "execution_count": 3,
   "metadata": {},
   "outputs": [
    {
     "name": "stdout",
     "output_type": "stream",
     "text": [
      "159 2183\n",
      "(1, 508, -37)\n"
     ]
    }
   ],
   "source": [
    "import random\n",
    "\n",
    "a = random.randint(100, 900)\n",
    "b = random.randint(1000, 3000)\n",
    "print(a, b)\n",
    "def evklid(a, b):\n",
    "    if a == 0:\n",
    "        return (b, 0, 1)\n",
    "    else:\n",
    "        div, x, y = evklid(b % a, a)\n",
    "    return (div, y - (b // a) * x, x)\n",
    "    \n",
    "print(evklid(a, b))"
   ]
  },
  {
   "cell_type": "code",
   "execution_count": 4,
   "metadata": {},
   "outputs": [
    {
     "name": "stdout",
     "output_type": "stream",
     "text": [
      "31483\n",
      "false\n"
     ]
    }
   ],
   "source": [
    "import random\n",
    "import math\n",
    "a = random.randint(100, 2**15)\n",
    "print(a)\n",
    "k = 0\n",
    "for i in range(2, int(math.sqrt(a)) + 1):\n",
    "    if (a % i == 0):\n",
    "        k += 1 \n",
    "if (k == 0):\n",
    "    print(\"true\")\n",
    "else:\n",
    "    print('false')"
   ]
  },
  {
   "cell_type": "code",
   "execution_count": null,
   "metadata": {},
   "outputs": [],
   "source": []
  }
 ],
 "metadata": {
  "kernelspec": {
   "display_name": "Python 3",
   "language": "python",
   "name": "python3"
  },
  "language_info": {
   "codemirror_mode": {
    "name": "ipython",
    "version": 3
   },
   "file_extension": ".py",
   "mimetype": "text/x-python",
   "name": "python",
   "nbconvert_exporter": "python",
   "pygments_lexer": "ipython3",
   "version": "3.8.6"
  }
 },
 "nbformat": 4,
 "nbformat_minor": 4
}
