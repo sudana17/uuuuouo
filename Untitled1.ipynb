{
 "cells": [
  {
   "cell_type": "code",
   "execution_count": null,
   "metadata": {},
   "outputs": [],
   "source": [
    "import turtle as tl\n",
    "\n",
    "def draw_fractal(size):\n",
    "    if size >= 5:\n",
    "        tl.pensize(max(size / 50, 1))\n",
    "        tl.forward(size)\n",
    "        tl.left(45)\n",
    "        draw_fractal(size / 1.5)\n",
    "        tl.right(30)\n",
    "        draw_fractal(size / 3)\n",
    "        tl.right(30)\n",
    "        draw_fractal(size / 6)\n",
    "        tl.right(30)\n",
    "        draw_fractal(size / 9)\n",
    "      \n",
    "        tl.left(270)\n",
    "        draw_fractal(size / 1.5)\n",
    "        tl.right(30)\n",
    "        draw_fractal(size / 3)\n",
    "        tl.right(30)\n",
    "        draw_fractal(size / 6)\n",
    "        tl.right(30)\n",
    "        draw_fractal(size / 9)\n",
    "\n",
    "        tl.right(135)\n",
    "        tl.penup()\n",
    "        tl.backward(size)\n",
    "        tl.pendown()\n",
    "    else:\n",
    "        tl.pensize(3)\n",
    "        tl.dot()\n",
    "        \n",
    "size = 300\n",
    "\n",
    "tl.delay(1)  \n",
    "tl.penup()\n",
    "tl.color('blue')\n",
    "tl.goto(0, -size * 2)\n",
    "tl.setheading(90)\n",
    "tl.pendown()\n",
    "\n",
    "draw_fractal(size)\n",
    "tl.done()\n"
   ]
  }
 ],
 "metadata": {
  "kernelspec": {
   "display_name": "Python 3",
   "language": "python",
   "name": "python3"
  },
  "language_info": {
   "codemirror_mode": {
    "name": "ipython",
    "version": 3
   },
   "file_extension": ".py",
   "mimetype": "text/x-python",
   "name": "python",
   "nbconvert_exporter": "python",
   "pygments_lexer": "ipython3",
   "version": "3.8.6"
  }
 },
 "nbformat": 4,
 "nbformat_minor": 4
}
